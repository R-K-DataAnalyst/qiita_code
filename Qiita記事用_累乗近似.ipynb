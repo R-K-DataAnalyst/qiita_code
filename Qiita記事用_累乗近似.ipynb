{
 "cells": [
  {
   "cell_type": "code",
   "execution_count": 1,
   "metadata": {},
   "outputs": [],
   "source": [
    "import numpy as np\n",
    "import scipy as sp\n",
    "import matplotlib\n",
    "import matplotlib.pyplot as plt\n",
    "import seaborn as sns\n",
    "import pandas as pd\n",
    "import statsmodels.api as sm\n",
    "from pandas.plotting import register_matplotlib_converters\n",
    "import datetime as dt\n",
    "from scipy.optimize import curve_fit\n",
    "register_matplotlib_converters()"
   ]
  },
  {
   "cell_type": "code",
   "execution_count": 2,
   "metadata": {},
   "outputs": [
    {
     "name": "stdout",
     "output_type": "stream",
     "text": [
      "C:\\Users\\ryousuke.kiridoshi\\.matplotlib\\matplotlibrc\n",
      "['IPAexGothic']\n",
      "C:\\Users\\ryousuke.kiridoshi\\.matplotlib\n",
      "C:\\Users\\ryousuke.kiridoshi\\.matplotlib\n"
     ]
    }
   ],
   "source": [
    "print(matplotlib.matplotlib_fname()) #設定ファイルを表示（matplotlibrcは後で作ります）\n",
    "print(matplotlib.rcParams['font.family']) #現在使用しているフォントを表示\n",
    "print(matplotlib.get_configdir()) #設定ディレクトリを表示\n",
    "print(matplotlib.get_cachedir()) #キャッシュディレクトリを表示"
   ]
  },
  {
   "cell_type": "code",
   "execution_count": 3,
   "metadata": {},
   "outputs": [],
   "source": [
    "#https://www8.cao.go.jp/youth/whitepaper/h23honpenhtml/html/zuhyo/zu1106.html"
   ]
  },
  {
   "cell_type": "code",
   "execution_count": 11,
   "metadata": {},
   "outputs": [
    {
     "data": {
      "text/html": [
       "<div>\n",
       "<style scoped>\n",
       "    .dataframe tbody tr th:only-of-type {\n",
       "        vertical-align: middle;\n",
       "    }\n",
       "\n",
       "    .dataframe tbody tr th {\n",
       "        vertical-align: top;\n",
       "    }\n",
       "\n",
       "    .dataframe thead th {\n",
       "        text-align: right;\n",
       "    }\n",
       "</style>\n",
       "<table border=\"1\" class=\"dataframe\">\n",
       "  <thead>\n",
       "    <tr style=\"text-align: right;\">\n",
       "      <th></th>\n",
       "      <th>年次</th>\n",
       "      <th>乳児死亡数（人）</th>\n",
       "      <th>乳児死亡数（千人）</th>\n",
       "      <th>乳児死亡率</th>\n",
       "    </tr>\n",
       "  </thead>\n",
       "  <tbody>\n",
       "    <tr>\n",
       "      <th>3</th>\n",
       "      <td>昭和30</td>\n",
       "      <td>68,801</td>\n",
       "      <td>69</td>\n",
       "      <td>39.8</td>\n",
       "    </tr>\n",
       "    <tr>\n",
       "      <th>4</th>\n",
       "      <td>40</td>\n",
       "      <td>33,742</td>\n",
       "      <td>34</td>\n",
       "      <td>18.5</td>\n",
       "    </tr>\n",
       "    <tr>\n",
       "      <th>5</th>\n",
       "      <td>50</td>\n",
       "      <td>19,103</td>\n",
       "      <td>19</td>\n",
       "      <td>10.0</td>\n",
       "    </tr>\n",
       "    <tr>\n",
       "      <th>6</th>\n",
       "      <td>60</td>\n",
       "      <td>7,899</td>\n",
       "      <td>8</td>\n",
       "      <td>5.5</td>\n",
       "    </tr>\n",
       "    <tr>\n",
       "      <th>7</th>\n",
       "      <td>平成2</td>\n",
       "      <td>5,616</td>\n",
       "      <td>6</td>\n",
       "      <td>4.6</td>\n",
       "    </tr>\n",
       "    <tr>\n",
       "      <th>8</th>\n",
       "      <td>12</td>\n",
       "      <td>3,830</td>\n",
       "      <td>4</td>\n",
       "      <td>3.2</td>\n",
       "    </tr>\n",
       "    <tr>\n",
       "      <th>9</th>\n",
       "      <td>13</td>\n",
       "      <td>3,599</td>\n",
       "      <td>4</td>\n",
       "      <td>3.1</td>\n",
       "    </tr>\n",
       "    <tr>\n",
       "      <th>10</th>\n",
       "      <td>14</td>\n",
       "      <td>3,497</td>\n",
       "      <td>3</td>\n",
       "      <td>3.0</td>\n",
       "    </tr>\n",
       "    <tr>\n",
       "      <th>11</th>\n",
       "      <td>15</td>\n",
       "      <td>3,364</td>\n",
       "      <td>3</td>\n",
       "      <td>3.0</td>\n",
       "    </tr>\n",
       "    <tr>\n",
       "      <th>12</th>\n",
       "      <td>16</td>\n",
       "      <td>3,122</td>\n",
       "      <td>3</td>\n",
       "      <td>2.8</td>\n",
       "    </tr>\n",
       "    <tr>\n",
       "      <th>13</th>\n",
       "      <td>17</td>\n",
       "      <td>2,958</td>\n",
       "      <td>3</td>\n",
       "      <td>2.8</td>\n",
       "    </tr>\n",
       "    <tr>\n",
       "      <th>14</th>\n",
       "      <td>18</td>\n",
       "      <td>2,864</td>\n",
       "      <td>3</td>\n",
       "      <td>2.6</td>\n",
       "    </tr>\n",
       "    <tr>\n",
       "      <th>15</th>\n",
       "      <td>19</td>\n",
       "      <td>2,828</td>\n",
       "      <td>3</td>\n",
       "      <td>2.6</td>\n",
       "    </tr>\n",
       "    <tr>\n",
       "      <th>16</th>\n",
       "      <td>20</td>\n",
       "      <td>2,798</td>\n",
       "      <td>3</td>\n",
       "      <td>2.6</td>\n",
       "    </tr>\n",
       "    <tr>\n",
       "      <th>17</th>\n",
       "      <td>21</td>\n",
       "      <td>2,556</td>\n",
       "      <td>3</td>\n",
       "      <td>2.4</td>\n",
       "    </tr>\n",
       "  </tbody>\n",
       "</table>\n",
       "</div>"
      ],
      "text/plain": [
       "      年次 乳児死亡数（人） 乳児死亡数（千人） 乳児死亡率\n",
       "3   昭和30   68,801        69  39.8\n",
       "4     40   33,742        34  18.5\n",
       "5     50   19,103        19  10.0\n",
       "6     60    7,899         8   5.5\n",
       "7    平成2    5,616         6   4.6\n",
       "8     12    3,830         4   3.2\n",
       "9     13    3,599         4   3.1\n",
       "10    14    3,497         3   3.0\n",
       "11    15    3,364         3   3.0\n",
       "12    16    3,122         3   2.8\n",
       "13    17    2,958         3   2.8\n",
       "14    18    2,864         3   2.6\n",
       "15    19    2,828         3   2.6\n",
       "16    20    2,798         3   2.6\n",
       "17    21    2,556         3   2.4"
      ]
     },
     "execution_count": 11,
     "metadata": {},
     "output_type": "execute_result"
    }
   ],
   "source": [
    "df=pd.read_csv('乳児死亡率.csv',encoding='cp932')\n",
    "df=df.iloc[3:18,:].rename(columns={'第1-1-6図　乳児死亡数・死亡率の推移':'年次'\\\n",
    "                                 ,'Unnamed: 1':'乳児死亡数（人）'\\\n",
    "                                 ,'Unnamed: 2':'乳児死亡数（千人）'\\\n",
    "                                 ,'Unnamed: 3':'乳児死亡率'})\n",
    "\n",
    "df"
   ]
  },
  {
   "cell_type": "code",
   "execution_count": 12,
   "metadata": {},
   "outputs": [
    {
     "data": {
      "text/html": [
       "<div>\n",
       "<style scoped>\n",
       "    .dataframe tbody tr th:only-of-type {\n",
       "        vertical-align: middle;\n",
       "    }\n",
       "\n",
       "    .dataframe tbody tr th {\n",
       "        vertical-align: top;\n",
       "    }\n",
       "\n",
       "    .dataframe thead th {\n",
       "        text-align: right;\n",
       "    }\n",
       "</style>\n",
       "<table border=\"1\" class=\"dataframe\">\n",
       "  <thead>\n",
       "    <tr style=\"text-align: right;\">\n",
       "      <th></th>\n",
       "      <th>年次</th>\n",
       "      <th>乳児死亡数（人）</th>\n",
       "      <th>乳児死亡数（千人）</th>\n",
       "      <th>乳児死亡率</th>\n",
       "      <th>rank</th>\n",
       "    </tr>\n",
       "  </thead>\n",
       "  <tbody>\n",
       "    <tr>\n",
       "      <th>3</th>\n",
       "      <td>昭和30</td>\n",
       "      <td>68801</td>\n",
       "      <td>69</td>\n",
       "      <td>39.8</td>\n",
       "      <td>1</td>\n",
       "    </tr>\n",
       "    <tr>\n",
       "      <th>4</th>\n",
       "      <td>40</td>\n",
       "      <td>33742</td>\n",
       "      <td>34</td>\n",
       "      <td>18.5</td>\n",
       "      <td>2</td>\n",
       "    </tr>\n",
       "    <tr>\n",
       "      <th>5</th>\n",
       "      <td>50</td>\n",
       "      <td>19103</td>\n",
       "      <td>19</td>\n",
       "      <td>10.0</td>\n",
       "      <td>3</td>\n",
       "    </tr>\n",
       "    <tr>\n",
       "      <th>6</th>\n",
       "      <td>60</td>\n",
       "      <td>7899</td>\n",
       "      <td>8</td>\n",
       "      <td>5.5</td>\n",
       "      <td>4</td>\n",
       "    </tr>\n",
       "    <tr>\n",
       "      <th>7</th>\n",
       "      <td>平成2</td>\n",
       "      <td>5616</td>\n",
       "      <td>6</td>\n",
       "      <td>4.6</td>\n",
       "      <td>5</td>\n",
       "    </tr>\n",
       "    <tr>\n",
       "      <th>8</th>\n",
       "      <td>12</td>\n",
       "      <td>3830</td>\n",
       "      <td>4</td>\n",
       "      <td>3.2</td>\n",
       "      <td>6</td>\n",
       "    </tr>\n",
       "    <tr>\n",
       "      <th>9</th>\n",
       "      <td>13</td>\n",
       "      <td>3599</td>\n",
       "      <td>4</td>\n",
       "      <td>3.1</td>\n",
       "      <td>7</td>\n",
       "    </tr>\n",
       "    <tr>\n",
       "      <th>10</th>\n",
       "      <td>14</td>\n",
       "      <td>3497</td>\n",
       "      <td>3</td>\n",
       "      <td>3.0</td>\n",
       "      <td>8</td>\n",
       "    </tr>\n",
       "    <tr>\n",
       "      <th>11</th>\n",
       "      <td>15</td>\n",
       "      <td>3364</td>\n",
       "      <td>3</td>\n",
       "      <td>3.0</td>\n",
       "      <td>9</td>\n",
       "    </tr>\n",
       "    <tr>\n",
       "      <th>12</th>\n",
       "      <td>16</td>\n",
       "      <td>3122</td>\n",
       "      <td>3</td>\n",
       "      <td>2.8</td>\n",
       "      <td>10</td>\n",
       "    </tr>\n",
       "    <tr>\n",
       "      <th>13</th>\n",
       "      <td>17</td>\n",
       "      <td>2958</td>\n",
       "      <td>3</td>\n",
       "      <td>2.8</td>\n",
       "      <td>11</td>\n",
       "    </tr>\n",
       "    <tr>\n",
       "      <th>14</th>\n",
       "      <td>18</td>\n",
       "      <td>2864</td>\n",
       "      <td>3</td>\n",
       "      <td>2.6</td>\n",
       "      <td>12</td>\n",
       "    </tr>\n",
       "    <tr>\n",
       "      <th>15</th>\n",
       "      <td>19</td>\n",
       "      <td>2828</td>\n",
       "      <td>3</td>\n",
       "      <td>2.6</td>\n",
       "      <td>13</td>\n",
       "    </tr>\n",
       "    <tr>\n",
       "      <th>16</th>\n",
       "      <td>20</td>\n",
       "      <td>2798</td>\n",
       "      <td>3</td>\n",
       "      <td>2.6</td>\n",
       "      <td>14</td>\n",
       "    </tr>\n",
       "    <tr>\n",
       "      <th>17</th>\n",
       "      <td>21</td>\n",
       "      <td>2556</td>\n",
       "      <td>3</td>\n",
       "      <td>2.4</td>\n",
       "      <td>15</td>\n",
       "    </tr>\n",
       "  </tbody>\n",
       "</table>\n",
       "</div>"
      ],
      "text/plain": [
       "      年次  乳児死亡数（人） 乳児死亡数（千人）  乳児死亡率  rank\n",
       "3   昭和30     68801        69   39.8     1\n",
       "4     40     33742        34   18.5     2\n",
       "5     50     19103        19   10.0     3\n",
       "6     60      7899         8    5.5     4\n",
       "7    平成2      5616         6    4.6     5\n",
       "8     12      3830         4    3.2     6\n",
       "9     13      3599         4    3.1     7\n",
       "10    14      3497         3    3.0     8\n",
       "11    15      3364         3    3.0     9\n",
       "12    16      3122         3    2.8    10\n",
       "13    17      2958         3    2.8    11\n",
       "14    18      2864         3    2.6    12\n",
       "15    19      2828         3    2.6    13\n",
       "16    20      2798         3    2.6    14\n",
       "17    21      2556         3    2.4    15"
      ]
     },
     "execution_count": 12,
     "metadata": {},
     "output_type": "execute_result"
    }
   ],
   "source": [
    "rank=range(1,len(df)+1)\n",
    "df['rank']=rank\n",
    "df['乳児死亡率']=df['乳児死亡率'].astype(float)\n",
    "df['乳児死亡数（人）']=df['乳児死亡数（人）'].str.replace(',','').astype(np.int)\n",
    "df"
   ]
  },
  {
   "cell_type": "code",
   "execution_count": 13,
   "metadata": {},
   "outputs": [
    {
     "name": "stdout",
     "output_type": "stream",
     "text": [
      "<class 'pandas.core.frame.DataFrame'>\n",
      "RangeIndex: 15 entries, 3 to 17\n",
      "Data columns (total 5 columns):\n",
      " #   Column     Non-Null Count  Dtype  \n",
      "---  ------     --------------  -----  \n",
      " 0   年次         15 non-null     object \n",
      " 1   乳児死亡数（人）   15 non-null     int32  \n",
      " 2   乳児死亡数（千人）  15 non-null     object \n",
      " 3   乳児死亡率      15 non-null     float64\n",
      " 4   rank       15 non-null     int32  \n",
      "dtypes: float64(1), int32(2), object(2)\n",
      "memory usage: 612.0+ bytes\n",
      "None\n"
     ]
    }
   ],
   "source": [
    "print(df.info())"
   ]
  },
  {
   "cell_type": "code",
   "execution_count": 14,
   "metadata": {},
   "outputs": [
    {
     "data": {
      "image/png": "[encoded data removed]",
      "text/plain": [
       "<Figure size 432x288 with 1 Axes>"
      ]
     },
     "metadata": {
      "needs_background": "light"
     },
     "output_type": "display_data"
    }
   ],
   "source": [
    "x=df['年次']\n",
    "y=df['乳児死亡率']\n",
    "ax=plt.subplot(1,1,1)\n",
    "ax.plot(x,y)\n",
    "ax.set_xlabel('年次')\n",
    "ax.set_ylabel('乳児死亡率')\n",
    "plt.show()"
   ]
  },
  {
   "cell_type": "code",
   "execution_count": 20,
   "metadata": {},
   "outputs": [],
   "source": [
    "def exp_func_log(x, a, b):\n",
    "    return a*np.log(x) + np.log(b)"
   ]
  },
  {
   "cell_type": "code",
   "execution_count": 21,
   "metadata": {},
   "outputs": [],
   "source": [
    "def exp_func_log_fit(val1_quan, val2_quan):\n",
    "    l_popt, l_pcov = curve_fit(exp_func_log, val1_quan, np.log(val2_quan), maxfev=10000, check_finite=False)\n",
    "    return exp_func_log(val1_quan, *l_popt),l_popt"
   ]
  },
  {
   "cell_type": "code",
   "execution_count": 22,
   "metadata": {},
   "outputs": [],
   "source": [
    "def log_to_exp(x,a,b):\n",
    "    return np.exp(a*np.log(x) + np.log(b))"
   ]
  },
  {
   "cell_type": "code",
   "execution_count": 23,
   "metadata": {},
   "outputs": [
    {
     "data": {
      "image/png": "[encoded data removed]",
      "text/plain": [
       "<Figure size 432x288 with 1 Axes>"
      ]
     },
     "metadata": {
      "needs_background": "light"
     },
     "output_type": "display_data"
    },
    {
     "name": "stdout",
     "output_type": "stream",
     "text": [
      "a : -1.0281998833713129,   b : 30.192843963033592\n"
     ]
    }
   ],
   "source": [
    "x=df['年次']\n",
    "x2=df['rank']\n",
    "y=df['乳児死亡率']\n",
    "y_fit,l_popt=exp_func_log_fit(x2,y)\n",
    "y_fit=log_to_exp(x2,l_popt[0],l_popt[1])\n",
    "\n",
    "ax=plt.subplot(1,1,1)\n",
    "ax.plot(x,y,label='obs')\n",
    "ax.plot(x,y_fit,label='model')\n",
    "ax.set_xlabel('年次')\n",
    "ax.set_ylabel('乳児死亡率')\n",
    "plt.legend()\n",
    "plt.show()\n",
    "print('a : {},   b : {}'.format(l_popt[0],l_popt[1]))"
   ]
  },
  {
   "cell_type": "code",
   "execution_count": 24,
   "metadata": {},
   "outputs": [],
   "source": [
    "def exp_func(x, a, b):\n",
    "    return b*(x**a)"
   ]
  },
  {
   "cell_type": "code",
   "execution_count": 25,
   "metadata": {},
   "outputs": [],
   "source": [
    "def exp_fit(val1_quan, val2_quan):\n",
    "    l_popt, l_pcov = curve_fit(exp_func, val1_quan, val2_quan, maxfev=10000, check_finite=False)\n",
    "    return exp_func(val1_quan, *l_popt),l_popt"
   ]
  },
  {
   "cell_type": "code",
   "execution_count": 26,
   "metadata": {},
   "outputs": [
    {
     "data": {
      "image/png": "[encoded data removed]",
      "text/plain": [
       "<Figure size 432x288 with 1 Axes>"
      ]
     },
     "metadata": {
      "needs_background": "light"
     },
     "output_type": "display_data"
    },
    {
     "name": "stdout",
     "output_type": "stream",
     "text": [
      "a : -1.2352257297209968,   b : 39.99372975107815\n"
     ]
    }
   ],
   "source": [
    "x=df['年次']\n",
    "x2=df['rank']\n",
    "y=df['乳児死亡率']\n",
    "y_fit,l_popt=exp_fit(x2,y)\n",
    "\n",
    "ax=plt.subplot(1,1,1)\n",
    "ax.plot(x,y,label='obs')\n",
    "ax.plot(x,y_fit,label='model')\n",
    "ax.set_xlabel('年次')\n",
    "ax.set_ylabel('乳児死亡率')\n",
    "plt.legend()\n",
    "plt.show()\n",
    "print('a : {},   b : {}'.format(l_popt[0],l_popt[1]))"
   ]
  },
  {
   "cell_type": "code",
   "execution_count": null,
   "metadata": {},
   "outputs": [],
   "source": []
  },
  {
   "cell_type": "code",
   "execution_count": 64,
   "metadata": {},
   "outputs": [
    {
     "data": {
      "text/html": [
       "<div>\n",
       "<style scoped>\n",
       "    .dataframe tbody tr th:only-of-type {\n",
       "        vertical-align: middle;\n",
       "    }\n",
       "\n",
       "    .dataframe tbody tr th {\n",
       "        vertical-align: top;\n",
       "    }\n",
       "\n",
       "    .dataframe thead th {\n",
       "        text-align: right;\n",
       "    }\n",
       "</style>\n",
       "<table border=\"1\" class=\"dataframe\">\n",
       "  <thead>\n",
       "    <tr style=\"text-align: right;\">\n",
       "      <th></th>\n",
       "      <th>年次</th>\n",
       "      <th>乳児死亡数（人）</th>\n",
       "      <th>乳児死亡数（千人）</th>\n",
       "      <th>乳児死亡率</th>\n",
       "      <th>rank</th>\n",
       "    </tr>\n",
       "  </thead>\n",
       "  <tbody>\n",
       "    <tr>\n",
       "      <th>3</th>\n",
       "      <td>昭和30</td>\n",
       "      <td>68801</td>\n",
       "      <td>69</td>\n",
       "      <td>39.8</td>\n",
       "      <td>1</td>\n",
       "    </tr>\n",
       "    <tr>\n",
       "      <th>4</th>\n",
       "      <td>40</td>\n",
       "      <td>33742</td>\n",
       "      <td>34</td>\n",
       "      <td>18.5</td>\n",
       "      <td>2</td>\n",
       "    </tr>\n",
       "    <tr>\n",
       "      <th>5</th>\n",
       "      <td>50</td>\n",
       "      <td>19103</td>\n",
       "      <td>19</td>\n",
       "      <td>10.0</td>\n",
       "      <td>3</td>\n",
       "    </tr>\n",
       "    <tr>\n",
       "      <th>6</th>\n",
       "      <td>60</td>\n",
       "      <td>7899</td>\n",
       "      <td>8</td>\n",
       "      <td>5.5</td>\n",
       "      <td>4</td>\n",
       "    </tr>\n",
       "    <tr>\n",
       "      <th>7</th>\n",
       "      <td>平成2</td>\n",
       "      <td>60000</td>\n",
       "      <td>6</td>\n",
       "      <td>4.6</td>\n",
       "      <td>5</td>\n",
       "    </tr>\n",
       "    <tr>\n",
       "      <th>8</th>\n",
       "      <td>12</td>\n",
       "      <td>3830</td>\n",
       "      <td>4</td>\n",
       "      <td>3.2</td>\n",
       "      <td>6</td>\n",
       "    </tr>\n",
       "    <tr>\n",
       "      <th>9</th>\n",
       "      <td>13</td>\n",
       "      <td>40000</td>\n",
       "      <td>4</td>\n",
       "      <td>3.1</td>\n",
       "      <td>7</td>\n",
       "    </tr>\n",
       "    <tr>\n",
       "      <th>10</th>\n",
       "      <td>14</td>\n",
       "      <td>3497</td>\n",
       "      <td>3</td>\n",
       "      <td>3.0</td>\n",
       "      <td>8</td>\n",
       "    </tr>\n",
       "    <tr>\n",
       "      <th>11</th>\n",
       "      <td>15</td>\n",
       "      <td>20000</td>\n",
       "      <td>3</td>\n",
       "      <td>3.0</td>\n",
       "      <td>9</td>\n",
       "    </tr>\n",
       "    <tr>\n",
       "      <th>12</th>\n",
       "      <td>16</td>\n",
       "      <td>3122</td>\n",
       "      <td>3</td>\n",
       "      <td>2.8</td>\n",
       "      <td>10</td>\n",
       "    </tr>\n",
       "    <tr>\n",
       "      <th>13</th>\n",
       "      <td>17</td>\n",
       "      <td>2958</td>\n",
       "      <td>3</td>\n",
       "      <td>2.8</td>\n",
       "      <td>11</td>\n",
       "    </tr>\n",
       "    <tr>\n",
       "      <th>14</th>\n",
       "      <td>18</td>\n",
       "      <td>10000</td>\n",
       "      <td>3</td>\n",
       "      <td>2.6</td>\n",
       "      <td>12</td>\n",
       "    </tr>\n",
       "    <tr>\n",
       "      <th>15</th>\n",
       "      <td>19</td>\n",
       "      <td>2828</td>\n",
       "      <td>3</td>\n",
       "      <td>2.6</td>\n",
       "      <td>13</td>\n",
       "    </tr>\n",
       "    <tr>\n",
       "      <th>16</th>\n",
       "      <td>20</td>\n",
       "      <td>2798</td>\n",
       "      <td>3</td>\n",
       "      <td>2.6</td>\n",
       "      <td>14</td>\n",
       "    </tr>\n",
       "    <tr>\n",
       "      <th>17</th>\n",
       "      <td>21</td>\n",
       "      <td>2556</td>\n",
       "      <td>3</td>\n",
       "      <td>2.4</td>\n",
       "      <td>15</td>\n",
       "    </tr>\n",
       "  </tbody>\n",
       "</table>\n",
       "</div>"
      ],
      "text/plain": [
       "      年次  乳児死亡数（人） 乳児死亡数（千人）  乳児死亡率  rank\n",
       "3   昭和30     68801        69   39.8     1\n",
       "4     40     33742        34   18.5     2\n",
       "5     50     19103        19   10.0     3\n",
       "6     60      7899         8    5.5     4\n",
       "7    平成2     60000         6    4.6     5\n",
       "8     12      3830         4    3.2     6\n",
       "9     13     40000         4    3.1     7\n",
       "10    14      3497         3    3.0     8\n",
       "11    15     20000         3    3.0     9\n",
       "12    16      3122         3    2.8    10\n",
       "13    17      2958         3    2.8    11\n",
       "14    18     10000         3    2.6    12\n",
       "15    19      2828         3    2.6    13\n",
       "16    20      2798         3    2.6    14\n",
       "17    21      2556         3    2.4    15"
      ]
     },
     "metadata": {},
     "output_type": "display_data"
    },
    {
     "data": {
      "image/png": "[encoded data removed]",
      "text/plain": [
       "<Figure size 432x288 with 1 Axes>"
      ]
     },
     "metadata": {
      "needs_background": "light"
     },
     "output_type": "display_data"
    }
   ],
   "source": [
    "df=pd.read_csv('乳児死亡率.csv',encoding='cp932')\n",
    "df=df.iloc[3:18,:].rename(columns={'第1-1-6図　乳児死亡数・死亡率の推移':'年次'\\\n",
    "                                 ,'Unnamed: 1':'乳児死亡数（人）'\\\n",
    "                                 ,'Unnamed: 2':'乳児死亡数（千人）'\\\n",
    "                                 ,'Unnamed: 3':'乳児死亡率'})\n",
    "# 後々の処理のために連番カラム作成\n",
    "rank=range(1,len(df)+1)\n",
    "df['rank']=rank\n",
    "# すべてのカラムがobject型なので乳児死亡率をfloat型に\n",
    "df['乳児死亡率']=df['乳児死亡率'].astype(float)\n",
    "df['乳児死亡数（人）']=df['乳児死亡数（人）'].str.replace(',','').astype(np.int)\n",
    "\n",
    "# ダミーデータを挿入する\n",
    "df2=df.copy()\n",
    "df2.loc[df2['年次']=='平成2', '乳児死亡数（人）']=60000\n",
    "df2.loc[df2['年次']=='13', '乳児死亡数（人）']=40000\n",
    "df2.loc[df2['年次']=='15', '乳児死亡数（人）']=20000\n",
    "df2.loc[df2['年次']=='18', '乳児死亡数（人）']=10000\n",
    "display(df2)\n",
    "\n",
    "x=df2['年次']\n",
    "y=df2['乳児死亡数（人）']\n",
    "ax=plt.subplot(1,1,1)\n",
    "ax.plot(x,y)\n",
    "ax.set_xlabel('年次')\n",
    "ax.set_ylabel('乳児死亡数（人）')\n",
    "ax.set_title('ダミーの数値を平成2,13,15,18に挿入')\n",
    "plt.show()"
   ]
  },
  {
   "cell_type": "code",
   "execution_count": 65,
   "metadata": {},
   "outputs": [
    {
     "data": {
      "image/png": "[encoded data removed]",
      "text/plain": [
       "<Figure size 432x288 with 1 Axes>"
      ]
     },
     "metadata": {
      "needs_background": "light"
     },
     "output_type": "display_data"
    },
    {
     "name": "stdout",
     "output_type": "stream",
     "text": [
      "a : -0.7916439659435447,   b : 66854.35845959891\n"
     ]
    },
    {
     "data": {
      "image/png": "[encoded data removed]",
      "text/plain": [
       "<Figure size 432x288 with 1 Axes>"
      ]
     },
     "metadata": {
      "needs_background": "light"
     },
     "output_type": "display_data"
    },
    {
     "name": "stdout",
     "output_type": "stream",
     "text": [
      "a : -1.1516001225868837,   b : 80380.44848731253\n"
     ]
    }
   ],
   "source": [
    "# 非線形回帰\n",
    "x=df2['年次']\n",
    "x2=df2['rank']\n",
    "y=df2['乳児死亡数（人）']\n",
    "y_fit,l_popt=exp_fit(x2,y)\n",
    "\n",
    "ax=plt.subplot(1,1,1)\n",
    "ax.plot(x,y,label='obs')\n",
    "ax.plot(x,y_fit,label='model')\n",
    "ax.set_xlabel('年次')\n",
    "ax.set_ylabel('乳児死亡数（人）')\n",
    "plt.legend()\n",
    "plt.show()\n",
    "print('a : {},   b : {}'.format(l_popt[0],l_popt[1]))\n",
    "\n",
    "# 対数変換線形回帰\n",
    "x=df2['年次']\n",
    "x2=df2['rank']\n",
    "y=df2['乳児死亡数（人）']\n",
    "y_fit,l_popt=exp_func_log_fit(x2,y)\n",
    "y_fit=log_to_exp(x2,l_popt[0],l_popt[1])\n",
    "\n",
    "ax=plt.subplot(1,1,1)\n",
    "ax.plot(x,y,label='obs')\n",
    "ax.plot(x,y_fit,label='model')\n",
    "ax.set_xlabel('年次')\n",
    "ax.set_ylabel('乳児死亡数（人）')\n",
    "plt.legend()\n",
    "plt.show()\n",
    "print('a : {},   b : {}'.format(l_popt[0],l_popt[1]))"
   ]
  },
  {
   "cell_type": "code",
   "execution_count": null,
   "metadata": {},
   "outputs": [],
   "source": []
  },
  {
   "cell_type": "code",
   "execution_count": null,
   "metadata": {},
   "outputs": [],
   "source": []
  }
 ],
 "metadata": {
  "kernelspec": {
   "display_name": "Python 3 (ipykernel)",
   "language": "python",
   "name": "python3"
  },
  "language_info": {
   "codemirror_mode": {
    "name": "ipython",
    "version": 3
   },
   "file_extension": ".py",
   "mimetype": "text/x-python",
   "name": "python",
   "nbconvert_exporter": "python",
   "pygments_lexer": "ipython3",
   "version": "3.7.7"
  }
 },
 "nbformat": 4,
 "nbformat_minor": 4
}
